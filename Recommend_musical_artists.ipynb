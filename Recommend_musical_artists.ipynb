{
  "nbformat": 4,
  "nbformat_minor": 0,
  "metadata": {
    "colab": {
      "provenance": []
    },
    "kernelspec": {
      "name": "python3",
      "display_name": "Python 3"
    },
    "language_info": {
      "name": "python"
    }
  },
  "cells": [
    {
      "cell_type": "markdown",
      "source": [
        "# 🎵 Music Recommendation with NMF\n",
        "\n",
        "In this project, we will apply **Non-Negative Matrix Factorization (NMF)** to build a simple music recommendation system.  \n",
        "\n",
        "For music datasets to download : [Data Link](https://drive.google.com/file/d/1gXn_N6gvOxZPmsIn6b4aRFtkQMTciR02/view?usp=sharing).\n",
        "\n",
        "The data to use is represented as a **user_artist.csv**, where:  \n",
        "- **Rows** represent artists,  \n",
        "- **Columns** represent users,  \n",
        "- **Entries** indicate how many times a given user listened to a particular artist.  \n",
        "\n",
        "Since users listen to different numbers of artists with varying frequencies, we first normalize the data to ensure all users contribute equally. This is done using **MaxAbsScaler**, which scales each user’s listening history without distorting the sparsity of the data.  \n",
        "\n",
        "After normalization, we factorize the matrix into lower-dimensional **NMF features**. These features capture hidden patterns in listening behavior, which will later be used to recommend artists to users — similar to how platforms like **Spotify** or **Last.fm** suggest new music.  \n"
      ],
      "metadata": {
        "id": "vMbZukAqCQQ9"
      }
    },
    {
      "cell_type": "code",
      "source": [
        "import pandas as pd\n",
        "import numpy as np"
      ],
      "metadata": {
        "id": "JM-h1_y7BT-N"
      },
      "execution_count": 24,
      "outputs": []
    },
    {
      "cell_type": "markdown",
      "source": [
        "**Creating artists X users Data**"
      ],
      "metadata": {
        "id": "G0a4x12uDorL"
      }
    },
    {
      "cell_type": "code",
      "execution_count": 25,
      "metadata": {
        "id": "IYQ2h-Z68lWZ"
      },
      "outputs": [],
      "source": [
        "# Load artists.csv (single column, no header)\n",
        "artists = pd.read_csv(\"artists.csv\", header=None, names=[\"artist_name\"])\n",
        "\n",
        "# Add artist_offset as the index (0-based, to match scrobbler file)\n",
        "artists = artists.reset_index().rename(columns={\"index\": \"artist_offset\"})\n",
        "\n",
        "# Load scrobbler data\n",
        "scrobbler = pd.read_csv(\"scrobbler-small-sample.csv\")\n",
        "\n",
        "# Merge using artist_offset\n",
        "merged = scrobbler.merge(artists, on=\"artist_offset\")\n",
        "\n",
        "# Create user–artist matrix\n",
        "data = merged.pivot_table(\n",
        "    index=\"artist_name\",      # rows = artists\n",
        "    columns=\"user_offset\",    # columns = users\n",
        "    values=\"playcount\",\n",
        "    aggfunc=\"sum\",\n",
        "    fill_value=0\n",
        ")\n",
        "\n",
        "data.to_csv(\"user_artist.csv\")\n"
      ]
    },
    {
      "cell_type": "markdown",
      "source": [
        "Loading artists X users Data"
      ],
      "metadata": {
        "id": "8Dd4VFBUDVKX"
      }
    },
    {
      "cell_type": "code",
      "source": [
        "# Load the saved CSV\n",
        "data = pd.read_csv(\"user_artist.csv\", index_col=0)\n",
        "\n",
        "# Convert to NumPy array (values only, no labels)\n",
        "artists = data.values   # or data.to_numpy()\n",
        "\n",
        "print(artists.shape)    # (num_artists, num_users)\n"
      ],
      "metadata": {
        "colab": {
          "base_uri": "https://localhost:8080/"
        },
        "id": "7fe7hPyo_l5J",
        "outputId": "51f06d71-4750-4317-e491-3645204ddf6e"
      },
      "execution_count": 26,
      "outputs": [
        {
          "output_type": "stream",
          "name": "stdout",
          "text": [
            "(111, 500)\n"
          ]
        }
      ]
    },
    {
      "cell_type": "markdown",
      "source": [
        "**Creating The Pipeline**"
      ],
      "metadata": {
        "id": "xW-goWM-DF8r"
      }
    },
    {
      "cell_type": "code",
      "source": [
        "# Perform the necessary imports\n",
        "from sklearn.decomposition import NMF\n",
        "from sklearn.preprocessing import Normalizer, MaxAbsScaler\n",
        "from sklearn.pipeline import make_pipeline\n",
        "\n",
        "# Create a MaxAbsScaler: scaler\n",
        "scaler = MaxAbsScaler()\n",
        "\n",
        "# Create an NMF model: nmf\n",
        "nmf = NMF(n_components = 20)\n",
        "\n",
        "# Create a Normalizer: normalizer\n",
        "normalizer = Normalizer()\n",
        "\n",
        "# Create a pipeline: pipeline\n",
        "pipeline = make_pipeline(scaler, nmf, normalizer)\n",
        "\n",
        "# Apply fit_transform to artists: norm_features\n",
        "norm_features = pipeline.fit_transform(artists)\n"
      ],
      "metadata": {
        "id": "pwe2adE58oyE"
      },
      "execution_count": 27,
      "outputs": []
    },
    {
      "cell_type": "markdown",
      "source": [
        "**Loading artits Names**"
      ],
      "metadata": {
        "id": "qNaQNdaGDwVY"
      }
    },
    {
      "cell_type": "code",
      "source": [
        "# Load artists.csv (single column, no header)\n",
        "artists = pd.read_csv(\"artists.csv\", header=None, names=[\"artist_name\"])\n",
        "\n",
        "# Convert to NumPy array\n",
        "artist_names = artists[\"artist_name\"].to_numpy()\n",
        "\n",
        "print(artist_names.shape)   # number of artists\n",
        "print(artist_names[:10])    # preview first 10 names"
      ],
      "metadata": {
        "colab": {
          "base_uri": "https://localhost:8080/"
        },
        "id": "TYG_NCfjBd6-",
        "outputId": "bb920a37-f1a2-4625-aaa9-d8b14a1745e1"
      },
      "execution_count": 28,
      "outputs": [
        {
          "output_type": "stream",
          "name": "stdout",
          "text": [
            "(111,)\n",
            "['Massive Attack' 'Sublime' 'Beastie Boys' 'Neil Young' 'Dead Kennedys'\n",
            " 'Orbital' 'Miles Davis' 'Leonard Cohen' 'Van Morrison' 'NOFX']\n"
          ]
        }
      ]
    },
    {
      "cell_type": "markdown",
      "source": [
        "Suppose you were a big fan of Bruce Springsteen - which other musical artists might you like? Use your NMF features and the cosine similarity to find similar musical artists.  `norm_features` is an array containing the normalized NMF features as rows. The names of the musical artists are available as the list `artist_names`."
      ],
      "metadata": {
        "id": "fNrqor-ZBrD3"
      }
    },
    {
      "cell_type": "code",
      "source": [
        "# Create a DataFrame: df\n",
        "df = pd.DataFrame(norm_features, index = artist_names)\n",
        "# Select row of 'Bruce Springsteen': artist\n",
        "artist = df.loc['Bruce Springsteen']\n",
        "\n",
        "# Compute cosine similarities: similarities\n",
        "similarities = df.dot(artist)\n",
        "\n",
        "# Display those with highest cosine similarity\n",
        "print(similarities.nlargest())\n"
      ],
      "metadata": {
        "colab": {
          "base_uri": "https://localhost:8080/"
        },
        "id": "oTohkYoJBCoz",
        "outputId": "b23f2439-76c9-4dfc-918b-99de4227cfcf"
      },
      "execution_count": 29,
      "outputs": [
        {
          "output_type": "stream",
          "name": "stdout",
          "text": [
            "Bruce Springsteen    1.000000\n",
            "Jet                  0.687018\n",
            "The Flaming Lips     0.673298\n",
            "Foo Fighters         0.667950\n",
            "AC/DC                0.636998\n",
            "dtype: float64\n"
          ]
        }
      ]
    }
  ]
}